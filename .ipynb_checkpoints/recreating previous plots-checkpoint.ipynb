{
 "cells": [
  {
   "cell_type": "markdown",
   "id": "29d39b62",
   "metadata": {},
   "source": [
    "Attempting to re-create plots from before code refactor. These plots are originally from `Model.ipynb` in the original `hyperspectral` repository."
   ]
  },
  {
   "cell_type": "code",
   "execution_count": 1,
   "id": "10d43acd",
   "metadata": {},
   "outputs": [],
   "source": [
    "import numpy as np\n",
    "import pandas as pd\n",
    "import matplotlib.pyplot as plt\n",
    "from data_objects import Fluorophore\n",
    "from imaging_model import fast_form_A\n",
    "#from information_matrix import read_qe, fast_form_q_vec, FIM"
   ]
  },
  {
   "cell_type": "markdown",
   "id": "934e9e03",
   "metadata": {},
   "source": [
    "Get fluorophore data: (copied from data_objects.py to help future-proof code)"
   ]
  },
  {
   "cell_type": "code",
   "execution_count": 2,
   "id": "fe720d02",
   "metadata": {},
   "outputs": [
    {
     "data": {
      "text/plain": [
       "['mEmerald', 'mTagBFP2', 'mCherry', 'mNeptune2.5']"
      ]
     },
     "execution_count": 2,
     "metadata": {},
     "output_type": "execute_result"
    }
   ],
   "source": [
    "fluorophore_string_list = [\"mEmerald\", \"mTagBFP2\", \"mCherry\", \"mNeptune2.5\"]\n",
    "brightness_list         = [39.1,       32.38,      15.85,     22.8         ]\n",
    "wavelength_range = (400,900)\n",
    "\n",
    "fluorophore_list = []\n",
    "for fluorophore_name, fluorophore_brightness in zip(fluorophore_string_list, brightness_list):\n",
    "    fluorophore_list.append(Fluorophore(fluorophore_name, fluorophore_brightness, index_range=wavelength_range))\n",
    "\n",
    "list(map(Fluorophore.get_name, fluorophore_list))"
   ]
  },
  {
   "cell_type": "markdown",
   "id": "8b7ff513",
   "metadata": {},
   "source": [
    "Specify other parameters:"
   ]
  },
  {
   "cell_type": "code",
   "execution_count": 3,
   "id": "299b951a",
   "metadata": {},
   "outputs": [],
   "source": [
    "illumination_wavelengths = np.array([405, 488, 561, 637])\n",
    "k = np.array([1,1,1,1]) # we will first compute A without k, and then use A to find new k values\n",
    "bin_width = 10\n",
    "\n",
    "params_wo_k = (illumination_wavelengths, k, wavelength_range, bin_width, fluorophore_list)"
   ]
  },
  {
   "cell_type": "markdown",
   "id": "bf2fc84a",
   "metadata": {},
   "source": [
    "Imaging model before $k$ is specified:"
   ]
  },
  {
   "cell_type": "code",
   "execution_count": 4,
   "id": "dc0e26e4",
   "metadata": {},
   "outputs": [
    {
     "data": {
      "text/plain": [
       "0.017846902914808855"
      ]
     },
     "execution_count": 4,
     "metadata": {},
     "output_type": "execute_result"
    }
   ],
   "source": [
    "fast_form_A(*params_wo_k)[10,0]"
   ]
  },
  {
   "cell_type": "markdown",
   "id": "bf1eb402",
   "metadata": {},
   "source": [
    "Now, we want to balance out our emission strengths so that a similar amount of information (photons) is collected from each fluorophore. (copied from original code)"
   ]
  },
  {
   "cell_type": "code",
   "execution_count": 5,
   "id": "19e8f665",
   "metadata": {},
   "outputs": [],
   "source": [
    "def calc_k_strength(i, desired_photons):\n",
    "        A_constant_k = fast_form_A(*params_wo_k)\n",
    "        illumination_one = A_constant_k[0:50, 0:4]\n",
    "        illumination_two = A_constant_k[50:100, 0:4]\n",
    "        illumination_three = A_constant_k[100:150, 0:4]\n",
    "        illumination_four = A_constant_k[150:200, 0:4]\n",
    "        if 0 <= i < 50: \n",
    "                sliced_average = np.average(illumination_one)\n",
    "                k = 1/(sliced_average) * desired_photons\n",
    "        elif 50 <= i < 100:\n",
    "                sliced_average = np.average(illumination_two)\n",
    "                k = 1/(sliced_average) *desired_photons\n",
    "        elif 100 <= i < 150:\n",
    "                sliced_average = np.average(illumination_three)\n",
    "                k = 1/(sliced_average) * desired_photons\n",
    "        elif 150 <= i < 200:\n",
    "                sliced_average = np.average(illumination_four)\n",
    "                k = 1/(sliced_average) * desired_photons\n",
    "        return k"
   ]
  },
  {
   "cell_type": "code",
   "execution_count": 6,
   "id": "150852f5",
   "metadata": {},
   "outputs": [
    {
     "data": {
      "text/plain": [
       "30740.88858655248"
      ]
     },
     "execution_count": 6,
     "metadata": {},
     "output_type": "execute_result"
    }
   ],
   "source": [
    "calc_k_strength(10, 100)"
   ]
  },
  {
   "cell_type": "markdown",
   "id": "7b3218b0",
   "metadata": {},
   "source": [
    "Imaging model with k specified: (copied from original code)"
   ]
  },
  {
   "cell_type": "code",
   "execution_count": 7,
   "id": "ee4a1c93",
   "metadata": {},
   "outputs": [],
   "source": [
    "def form_k_list(desired_photons):\n",
    "    k_list = []\n",
    "    for i in [0, 50, 100, 150]:\n",
    "        k = calc_k_strength(i, desired_photons)\n",
    "        k_list.append(k)\n",
    "        \n",
    "    return k_list\n",
    "\n",
    "def form_matrix_A(desired_photons):\n",
    "    k_list = form_k_list(desired_photons)\n",
    "    return fast_form_matrix_A(illumination_wavelengths, k_list, wavelength_range, bin_width, fluorophore_list)"
   ]
  },
  {
   "cell_type": "markdown",
   "id": "6df27661",
   "metadata": {},
   "source": [
    "Created a list of matrices so we are now able to create multiple \"A\" matrices for desired photon values. (copied from original code)"
   ]
  },
  {
   "cell_type": "code",
   "execution_count": 8,
   "id": "ab64edbb",
   "metadata": {},
   "outputs": [],
   "source": [
    "def calc_A_for_varying_photons(desired_photons_list):\n",
    "    # Input: list of average detected photons desired\n",
    "    # Output: list of corresponding A matrices\n",
    "    matrix_A_list = []\n",
    "    for desired_photons in desired_photons_list:\n",
    "        A = form_matrix_A(desired_photons)\n",
    "        matrix_A_list.append(A)\n",
    "\n",
    "    return matrix_A_list"
   ]
  },
  {
   "cell_type": "markdown",
   "id": "0de9536b",
   "metadata": {},
   "source": [
    "Create a vector consisting of some concentration of each fluorophore (copied from original code)"
   ]
  },
  {
   "cell_type": "code",
   "execution_count": 9,
   "id": "5f59f3fa",
   "metadata": {},
   "outputs": [],
   "source": [
    "x = [1, 1, 1, 1]"
   ]
  },
  {
   "cell_type": "markdown",
   "id": "d31cb167",
   "metadata": {},
   "source": [
    "Function to calculate FOM from $A$ and $x$."
   ]
  },
  {
   "cell_type": "code",
   "execution_count": 10,
   "id": "f3f55cf7",
   "metadata": {},
   "outputs": [],
   "source": [
    "def calc_FOM(A, x):\n",
    "    y = A @ x\n",
    "    y_inv = 1/y\n",
    "    y_inv[y_inv == np.inf] = 0\n",
    "    FIM = (A.T * y_inv) @ A\n",
    "    FIM_inv = np.linalg.inv(FIM)\n",
    "    CRLB = np.diagonal(FIM_inv)\n",
    "    FOM_list = np.array(x) / np.sqrt(CRLB)\n",
    "    \n",
    "    return FOM_list"
   ]
  },
  {
   "cell_type": "markdown",
   "id": "474e372d",
   "metadata": {},
   "source": [
    "Function to determine average photons detected using a for-loop (copied from original code)"
   ]
  },
  {
   "cell_type": "code",
   "execution_count": 11,
   "id": "99578bb6",
   "metadata": {},
   "outputs": [],
   "source": [
    "def calc_avg_detected_photons(A):\n",
    "    avg_photons_detected_list = []\n",
    "    for illum_count in range(4):\n",
    "        # start = 50 * illum_count\n",
    "        # end = 50 * (illum_count + 1)\n",
    "        # print(f\"Start row: {start}, End row: {end}\")\n",
    "        A_section = A[50 * illum_count : 50 * (illum_count + 1), :]\n",
    "        avg_photons_detected = np.average(A_section)\n",
    "        avg_photons_detected_list.append(avg_photons_detected)\n",
    "\n",
    "    return avg_photons_detected_list"
   ]
  }
 ],
 "metadata": {
  "kernelspec": {
   "display_name": "Python 3 (ipykernel)",
   "language": "python",
   "name": "python3"
  },
  "language_info": {
   "codemirror_mode": {
    "name": "ipython",
    "version": 3
   },
   "file_extension": ".py",
   "mimetype": "text/x-python",
   "name": "python",
   "nbconvert_exporter": "python",
   "pygments_lexer": "ipython3",
   "version": "3.9.16"
  }
 },
 "nbformat": 4,
 "nbformat_minor": 5
}
