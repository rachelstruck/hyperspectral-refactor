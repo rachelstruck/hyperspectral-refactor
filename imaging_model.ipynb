{
 "cells": [
  {
   "cell_type": "markdown",
   "id": "1e3d8b0c",
   "metadata": {},
   "source": [
    "We will compute matrix A to represent our (noiseless) imaging model."
   ]
  },
  {
   "cell_type": "code",
   "execution_count": 1,
   "id": "1212859e",
   "metadata": {},
   "outputs": [],
   "source": [
    "import numpy as np\n",
    "import pandas as pd\n",
    "from data_objects import Fluorophore, get_fluorophore_list"
   ]
  },
  {
   "cell_type": "code",
   "execution_count": 2,
   "id": "a04e0748",
   "metadata": {},
   "outputs": [],
   "source": [
    "illumination_wavelengths = [405, 488, 561, 637]\n",
    "wavelength_range = (400,900)\n",
    "bin_width = 10\n",
    "fluorophore_list = get_fluorophore_list(wavelength_range=wavelength_range)\n",
    "spectra_list = list(map(Fluorophore.get_spectra, fluorophore_list))\n",
    "\n",
    "bins_list = [*range(*wavelength_range, 10)]\n",
    "total_bins = len(illumination_wavelengths)*bins_list"
   ]
  },
  {
   "cell_type": "markdown",
   "id": "6d450da8",
   "metadata": {},
   "source": [
    "### Function to solve emission bin area using $i$ and $j$\n",
    "\n",
    "Corresponding lambda_min and lambda_max to the min and max wavelengths in channel i in a list of the 200 total bins"
   ]
  },
  {
   "cell_type": "code",
   "execution_count": 3,
   "id": "74a46517",
   "metadata": {},
   "outputs": [],
   "source": [
    "def calc_emission_bin(i, j):\n",
    "    df_spectra = spectra_list[j]\n",
    "    lambda_min = total_bins[i]\n",
    "    lambda_max = lambda_min + 10\n",
    "    bin_i = range(lambda_min, lambda_max)\n",
    "    df_sliced_data = df_spectra.loc[df_spectra['wavelength'].isin(bin_i)]\n",
    "    # print(df_sliced_data)\n",
    "    sliced_data_emmision = df_sliced_data['emission']\n",
    "    emission_bin = np.trapz(sliced_data_emmision)\n",
    "    # print('Emission bin sum for i = ', i, 'and j = ', j, 'is', emission_bin)\n",
    "    return emission_bin"
   ]
  },
  {
   "cell_type": "markdown",
   "id": "48cf4cc8",
   "metadata": {},
   "source": [
    "### Function to calculate the excitation values from the illumination wavelengths\n",
    "\n",
    "Excitation value corresponding to excitation wavelengths for each protein."
   ]
  },
  {
   "cell_type": "code",
   "execution_count": 4,
   "id": "590f5bf1",
   "metadata": {},
   "outputs": [],
   "source": [
    "def calc_excitation(i, j): \n",
    "    if i >= len(illumination_wavelengths) * len(bins_list):\n",
    "        illumination_wavelength = illumination_wavelengths[i // len(bins_list)]\n",
    "    else:\n",
    "        print('Invalid i value')\n",
    "    \n",
    "    return spectra_list[j].excitation[illumination_wavelength]"
   ]
  },
  {
   "cell_type": "markdown",
   "id": "78d42dfe",
   "metadata": {},
   "source": [
    "### Function to index over brightness values using a given $j$"
   ]
  },
  {
   "cell_type": "code",
   "execution_count": 5,
   "id": "3b9d28aa",
   "metadata": {},
   "outputs": [],
   "source": [
    "def calc_brightness(j):\n",
    "    brightness = fluorophore_list[j].brightness\n",
    "    return brightness"
   ]
  }
 ],
 "metadata": {
  "kernelspec": {
   "display_name": "Python 3 (ipykernel)",
   "language": "python",
   "name": "python3"
  },
  "language_info": {
   "codemirror_mode": {
    "name": "ipython",
    "version": 3
   },
   "file_extension": ".py",
   "mimetype": "text/x-python",
   "name": "python",
   "nbconvert_exporter": "python",
   "pygments_lexer": "ipython3",
   "version": "3.9.15"
  }
 },
 "nbformat": 4,
 "nbformat_minor": 5
}
