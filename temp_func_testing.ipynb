{
 "cells": [
  {
   "cell_type": "markdown",
   "id": "228c41b8",
   "metadata": {},
   "source": [
    "just a scratch file for testing .py file code"
   ]
  },
  {
   "cell_type": "code",
   "execution_count": null,
   "id": "5101e33b",
   "metadata": {},
   "outputs": [],
   "source": [
    "import numpy as np\n",
    "import pandas as pd\n",
    "import matplotlib.pyplot as plt\n",
    "from data_objects import Fluorophore, get_fluorophore_list\n",
    "from imaging_model import form_illumination_df, calc_A_entry, form_A"
   ]
  },
  {
   "cell_type": "code",
   "execution_count": null,
   "id": "4064595a",
   "metadata": {},
   "outputs": [],
   "source": [
    "df = pd.DataFrame({ \"col_A\":[], \"col_B\":[], \"col_C\":[] })\n",
    "for i in range(0, 200):\n",
    "    df.loc[i] = {\"col_A\": 2*i, \"col_B\": 4*i, \"col_C\": str(i)}\n",
    "df = df.assign(new_col=np.sin(df.index))\n",
    "df"
   ]
  },
  {
   "cell_type": "code",
   "execution_count": null,
   "id": "016fb892",
   "metadata": {},
   "outputs": [],
   "source": [
    "illumination_data = pd.DataFrame({\n",
    "    \"wavelength\" : [405, 488, 561, 637],\n",
    "    \"k\"          : [1,   1,   1,   1]\n",
    "})\n",
    "print(illumination_data)\n",
    "wavelength_range = (400,900)\n",
    "bin_width = 10\n",
    "illumination_df = form_illumination_df(illumination_data, wavelength_range, bin_width)\n",
    "illumination_df"
   ]
  },
  {
   "cell_type": "code",
   "execution_count": null,
   "id": "ed61addc",
   "metadata": {},
   "outputs": [],
   "source": [
    "illumination_df_row = illumination_df.loc[0]\n",
    "illumination_df_row\n",
    "illumination_wavelength = illumination_df_row.illumination_wavelength\n",
    "print(illumination_wavelength)\n",
    "type(illumination_wavelength)"
   ]
  },
  {
   "cell_type": "code",
   "execution_count": null,
   "id": "029604d9",
   "metadata": {},
   "outputs": [],
   "source": [
    "illumination_data = pd.DataFrame({\n",
    "    \"wavelength\" : [405, 488, 561, 637],\n",
    "    \"k\"          : [1,   1,   1,   1]\n",
    "})\n",
    "print(illumination_data)\n",
    "wavelength_range = (400,900)\n",
    "bin_width = 10\n",
    "\n",
    "illumination_df = form_illumination_df(illumination_data, wavelength_range, bin_width)\n",
    "fluorophore_list = get_fluorophore_list(wavelength_range=wavelength_range)\n",
    "print(list(map(Fluorophore.get_name, fluorophore_list)))\n",
    "\n",
    "form_A(illumination_df, fluorophore_list)"
   ]
  }
 ],
 "metadata": {
  "kernelspec": {
   "display_name": "Python 3 (ipykernel)",
   "language": "python",
   "name": "python3"
  },
  "language_info": {
   "codemirror_mode": {
    "name": "ipython",
    "version": 3
   },
   "file_extension": ".py",
   "mimetype": "text/x-python",
   "name": "python",
   "nbconvert_exporter": "python",
   "pygments_lexer": "ipython3",
   "version": "3.9.16"
  }
 },
 "nbformat": 4,
 "nbformat_minor": 5
}
