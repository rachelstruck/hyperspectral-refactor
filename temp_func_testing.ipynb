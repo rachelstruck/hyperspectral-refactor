{
 "cells": [
  {
   "cell_type": "markdown",
   "id": "228c41b8",
   "metadata": {},
   "source": [
    "just a scratch file for testing .py file code"
   ]
  },
  {
   "cell_type": "code",
   "execution_count": 2,
   "id": "5101e33b",
   "metadata": {},
   "outputs": [],
   "source": [
    "import numpy as np\n",
    "import pandas as pd\n",
    "import matplotlib.pyplot as plt\n",
    "from data_objects import Fluorophore, get_fluorophore_list"
   ]
  }
 ],
 "metadata": {
  "kernelspec": {
   "display_name": "Python 3 (ipykernel)",
   "language": "python",
   "name": "python3"
  },
  "language_info": {
   "codemirror_mode": {
    "name": "ipython",
    "version": 3
   },
   "file_extension": ".py",
   "mimetype": "text/x-python",
   "name": "python",
   "nbconvert_exporter": "python",
   "pygments_lexer": "ipython3",
   "version": "3.9.15"
  }
 },
 "nbformat": 4,
 "nbformat_minor": 5
}
